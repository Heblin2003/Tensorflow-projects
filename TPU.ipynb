{
  "nbformat": 4,
  "nbformat_minor": 0,
  "metadata": {
    "colab": {
      "provenance": []
    },
    "kernelspec": {
      "name": "python3",
      "display_name": "Python 3"
    },
    "language_info": {
      "name": "python"
    },
    "accelerator": "TPU"
  },
  "cells": [
    {
      "cell_type": "code",
      "execution_count": 8,
      "metadata": {
        "id": "qLpRxBm2y83s"
      },
      "outputs": [],
      "source": [
        "import tensorflow as tf\n",
        "import numpy as np\n",
        "import pandas as pd\n",
        "\n",
        "from tensorflow.keras.layers import Input, Conv2D, Dense, Flatten, Dropout, GlobalMaxPooling2D, MaxPooling2D, BatchNormalization\n",
        "from tensorflow.keras.models import Model"
      ]
    },
    {
      "cell_type": "code",
      "source": [
        "resolver = tf.distribute.cluster_resolver.TPUClusterResolver(tpu = '')\n",
        "tf.config.experimental_connect_to_cluster(resolver)\n",
        "tf.tpu.experimental.initialize_tpu_system(resolver)\n",
        "print('All devices: ', tf.config.list_logical_devices('TPU'))"
      ],
      "metadata": {
        "colab": {
          "base_uri": "https://localhost:8080/"
        },
        "id": "K3dHOJ6j2aob",
        "outputId": "8cdb2e74-a399-483c-fd21-b15978c8e7db"
      },
      "execution_count": 9,
      "outputs": [
        {
          "output_type": "stream",
          "name": "stderr",
          "text": [
            "WARNING:tensorflow:TPU system grpc://10.45.6.186:8470 has already been initialized. Reinitializing the TPU can cause previously created variables on TPU to be lost.\n"
          ]
        },
        {
          "output_type": "stream",
          "name": "stdout",
          "text": [
            "All devices:  [LogicalDevice(name='/job:worker/replica:0/task:0/device:TPU:0', device_type='TPU'), LogicalDevice(name='/job:worker/replica:0/task:0/device:TPU:1', device_type='TPU'), LogicalDevice(name='/job:worker/replica:0/task:0/device:TPU:2', device_type='TPU'), LogicalDevice(name='/job:worker/replica:0/task:0/device:TPU:3', device_type='TPU'), LogicalDevice(name='/job:worker/replica:0/task:0/device:TPU:4', device_type='TPU'), LogicalDevice(name='/job:worker/replica:0/task:0/device:TPU:5', device_type='TPU'), LogicalDevice(name='/job:worker/replica:0/task:0/device:TPU:6', device_type='TPU'), LogicalDevice(name='/job:worker/replica:0/task:0/device:TPU:7', device_type='TPU')]\n"
          ]
        }
      ]
    },
    {
      "cell_type": "code",
      "source": [
        "strategy = tf.distribute.TPUStrategy(resolver)"
      ],
      "metadata": {
        "id": "d8BUh0ZG3Htu"
      },
      "execution_count": 10,
      "outputs": []
    },
    {
      "cell_type": "code",
      "source": [
        "#load in the data\n",
        "cifar10 = tf.keras.datasets.cifar10\n",
        "\n",
        "(x_train, y_train), (x_test, y_test) = cifar10.load_data()\n",
        "x_train, x_test = x_train / 255.0, x_test / 255.0\n",
        "# Flatten the input data\n",
        "y_train, y_test = y_train.flatten(), y_test.flatten()\n",
        "print('x_train.shape:', x_train.shape)\n",
        "print('y_train.shape:', y_train.shape)"
      ],
      "metadata": {
        "colab": {
          "base_uri": "https://localhost:8080/"
        },
        "id": "o1ZCXcec4Oml",
        "outputId": "f40e95d4-4524-4330-fbb8-a98b739a6bb3"
      },
      "execution_count": 11,
      "outputs": [
        {
          "output_type": "stream",
          "name": "stdout",
          "text": [
            "x_train.shape: (50000, 32, 32, 3)\n",
            "y_train.shape: (50000,)\n"
          ]
        }
      ]
    },
    {
      "cell_type": "code",
      "source": [
        "# number of classes\n",
        "K = len(set(y_train))\n",
        "print(\"number of classes:\", K)"
      ],
      "metadata": {
        "colab": {
          "base_uri": "https://localhost:8080/"
        },
        "id": "WC5chWQ-EwSG",
        "outputId": "708d9543-8f06-4697-e806-638c0a0d084b"
      },
      "execution_count": 18,
      "outputs": [
        {
          "output_type": "stream",
          "name": "stdout",
          "text": [
            "number of classes: 10\n"
          ]
        }
      ]
    },
    {
      "cell_type": "code",
      "source": [
        "# model creation must be in strategy scope\n",
        "# we will define the function now, but this code\n",
        "# won't run outside the scope"
      ],
      "metadata": {
        "id": "jMbFp92Q3vZ3"
      },
      "execution_count": 19,
      "outputs": []
    },
    {
      "cell_type": "code",
      "source": [
        "# Build model\n",
        "def create_model():\n",
        "  i = Input(shape = x_train[0].shape)\n",
        "\n",
        "  x = Conv2D(32, (3, 3), activation = 'relu', padding = 'same')(i)\n",
        "  x = BatchNormalization()(x)\n",
        "  x = Conv2D(32, (3, 3), activation = 'relu', padding = 'same')(x)\n",
        "  x = BatchNormalization()(x)\n",
        "  x = MaxPooling2D((2, 2))(x)\n",
        "  x = Conv2D(32, (3, 3), activation = 'relu', padding = 'same')(x)\n",
        "  x = BatchNormalization()(x)\n",
        "  x = Conv2D(32, (3, 3), activation = 'relu', padding = 'same')(x)\n",
        "  x = BatchNormalization()(x)\n",
        "  x = MaxPooling2D((2, 2))(x)\n",
        "  x = Conv2D(32, (3, 3), activation = 'relu', padding = 'same')(x)\n",
        "  x = BatchNormalization()(x)\n",
        "  x = Conv2D(32, (3, 3), activation = 'relu', padding = 'same')(x)\n",
        "  x = BatchNormalization()(x)\n",
        "  x = MaxPooling2D((2, 2))(x)\n",
        "\n",
        "  x = Flatten()(x)\n",
        "  x = Dropout(0.2)(x)\n",
        "  x = Dense(1024, activation = 'relu')(x)\n",
        "  x = Dropout(0.2)(x)\n",
        "  x = Dense(K, activation = 'softmax')(x)\n",
        "\n",
        "  model = Model(i, x)\n",
        "  return model"
      ],
      "metadata": {
        "id": "S24D-QIA3dHo"
      },
      "execution_count": 13,
      "outputs": []
    },
    {
      "cell_type": "code",
      "source": [
        "train_dataset = tf.data.Dataset.from_tensor_slices((x_train, y_train))\n",
        "test_dataset = tf.data.Dataset.from_tensor_slices((x_test, y_test))"
      ],
      "metadata": {
        "id": "nIqJb2K13nEb"
      },
      "execution_count": 14,
      "outputs": []
    },
    {
      "cell_type": "code",
      "source": [
        "with strategy.scope():\n",
        "  model = create_model()\n",
        "  model.compile(\n",
        "      optimizer = 'adam',\n",
        "      loss = tf.keras.losses.SparseCategoricalCrossentropy(from_logits = True),\n",
        "      metrics = ['sparse_categorical_accuracy']\n",
        "  )\n",
        "\n",
        "  batch_size = 256\n",
        "\n",
        "  # reshuffle_each_iteration = None is default but is later set to True if None\n",
        "  # thus \"True\" is the actual default\n",
        "  train_dataset = train_dataset.shuffle(1000).batch(batch_size)\n",
        "  test_dataset = test_dataset.batch(batch_size)\n"
      ],
      "metadata": {
        "id": "CShX4_Yx4l0O"
      },
      "execution_count": 20,
      "outputs": []
    },
    {
      "cell_type": "code",
      "source": [
        "model.fit(train_dataset, epochs = 5, validation_data = test_dataset),"
      ],
      "metadata": {
        "colab": {
          "base_uri": "https://localhost:8080/"
        },
        "id": "17qh1A5gEWwW",
        "outputId": "0561c15f-980f-4dda-abaf-5dd459c8ce81"
      },
      "execution_count": 21,
      "outputs": [
        {
          "output_type": "stream",
          "name": "stdout",
          "text": [
            "Epoch 1/5\n"
          ]
        },
        {
          "output_type": "stream",
          "name": "stderr",
          "text": [
            "/usr/local/lib/python3.10/dist-packages/keras/backend.py:5612: UserWarning: \"`sparse_categorical_crossentropy` received `from_logits=True`, but the `output` argument was produced by a Softmax activation and thus does not represent logits. Was this intended?\n",
            "  output, from_logits = _get_logits(\n"
          ]
        },
        {
          "output_type": "stream",
          "name": "stdout",
          "text": [
            "196/196 [==============================] - 34s 103ms/step - loss: 1.5000 - sparse_categorical_accuracy: 0.4718 - val_loss: 3.0274 - val_sparse_categorical_accuracy: 0.1786\n",
            "Epoch 2/5\n",
            "196/196 [==============================] - 12s 59ms/step - loss: 1.0508 - sparse_categorical_accuracy: 0.6298 - val_loss: 1.9611 - val_sparse_categorical_accuracy: 0.3749\n",
            "Epoch 3/5\n",
            "196/196 [==============================] - 12s 60ms/step - loss: 0.8702 - sparse_categorical_accuracy: 0.6946 - val_loss: 1.0302 - val_sparse_categorical_accuracy: 0.6466\n",
            "Epoch 4/5\n",
            "196/196 [==============================] - 12s 62ms/step - loss: 0.7509 - sparse_categorical_accuracy: 0.7372 - val_loss: 0.7551 - val_sparse_categorical_accuracy: 0.7409\n",
            "Epoch 5/5\n",
            "196/196 [==============================] - 10s 53ms/step - loss: 0.6660 - sparse_categorical_accuracy: 0.7665 - val_loss: 0.7149 - val_sparse_categorical_accuracy: 0.7509\n"
          ]
        },
        {
          "output_type": "execute_result",
          "data": {
            "text/plain": [
              "(<keras.callbacks.History at 0x7f3b90726980>,)"
            ]
          },
          "metadata": {},
          "execution_count": 21
        }
      ]
    },
    {
      "cell_type": "code",
      "source": [
        "model.save('mymodel.h5')"
      ],
      "metadata": {
        "id": "K9uKanFKEoTV"
      },
      "execution_count": 22,
      "outputs": []
    },
    {
      "cell_type": "code",
      "source": [
        "with strategy.scope():\n",
        "  model = tf.keras.models.load_model('mymodel.h5')\n",
        "  out = model.predict(x_test[:1])\n",
        "  print(out)"
      ],
      "metadata": {
        "colab": {
          "base_uri": "https://localhost:8080/"
        },
        "id": "1eHYEyqCE3We",
        "outputId": "c67b5860-d249-4747-c29e-6d2c44bf0840"
      },
      "execution_count": 23,
      "outputs": [
        {
          "output_type": "stream",
          "name": "stdout",
          "text": [
            "1/1 [==============================] - 2s 2s/step\n",
            "[[0.00756784 0.02367925 0.01765121 0.6528193  0.00301466 0.19226538\n",
            "  0.07879657 0.00409831 0.01655927 0.00354816]]\n"
          ]
        }
      ]
    },
    {
      "cell_type": "code",
      "source": [
        "with strategy.scope():\n",
        "    model = tf.keras.models.load_model('mymodel.h5')\n",
        "    out = model.predict(x_test)\n",
        "    predicted_classes = out.argmax(axis=1)  # Find the index of the maximum value along axis 1\n",
        "    print(\"predicted:\", predicted_classes[0], \"actual:\", y_test[0])\n"
      ],
      "metadata": {
        "colab": {
          "base_uri": "https://localhost:8080/"
        },
        "id": "TWbbAlSdFHGx",
        "outputId": "d8ebeefc-ec3d-49f3-cb58-084ffb196507"
      },
      "execution_count": 26,
      "outputs": [
        {
          "output_type": "stream",
          "name": "stdout",
          "text": [
            "313/313 [==============================] - 6s 14ms/step\n",
            "predicted: 3 actual: 3\n"
          ]
        }
      ]
    },
    {
      "cell_type": "code",
      "source": [],
      "metadata": {
        "id": "ZNzKLAsEGNaI"
      },
      "execution_count": null,
      "outputs": []
    }
  ]
}