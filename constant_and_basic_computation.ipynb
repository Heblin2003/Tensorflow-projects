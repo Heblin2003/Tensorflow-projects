{
  "nbformat": 4,
  "nbformat_minor": 0,
  "metadata": {
    "colab": {
      "provenance": []
    },
    "kernelspec": {
      "name": "python3",
      "display_name": "Python 3"
    },
    "language_info": {
      "name": "python"
    }
  },
  "cells": [
    {
      "cell_type": "code",
      "execution_count": 1,
      "metadata": {
        "id": "VzDmws1GpNCR"
      },
      "outputs": [],
      "source": [
        "import tensorflow as tf"
      ]
    },
    {
      "cell_type": "code",
      "source": [
        "print(tf.version)"
      ],
      "metadata": {
        "colab": {
          "base_uri": "https://localhost:8080/"
        },
        "id": "19TXW20Yp0EY",
        "outputId": "7c774b29-b55c-4080-83db-604e8c8366f9"
      },
      "execution_count": 4,
      "outputs": [
        {
          "output_type": "stream",
          "name": "stdout",
          "text": [
            "<module 'tensorflow._api.v2.version' from '/usr/local/lib/python3.10/dist-packages/tensorflow/_api/v2/version/__init__.py'>\n"
          ]
        }
      ]
    },
    {
      "cell_type": "code",
      "source": [
        "a = tf.constant(3.0)\n",
        "b = tf.constant(4.0)\n",
        "c = tf.sqrt(a**2 + b**2)\n",
        "print(\"c\",c)"
      ],
      "metadata": {
        "colab": {
          "base_uri": "https://localhost:8080/"
        },
        "id": "eWxW04v9p3RT",
        "outputId": "bf2ee54f-37a9-4612-b88c-527529b53993"
      },
      "execution_count": 5,
      "outputs": [
        {
          "output_type": "stream",
          "name": "stdout",
          "text": [
            "c tf.Tensor(5.0, shape=(), dtype=float32)\n"
          ]
        }
      ]
    },
    {
      "cell_type": "code",
      "source": [
        "print(f'c: {c}')"
      ],
      "metadata": {
        "colab": {
          "base_uri": "https://localhost:8080/"
        },
        "id": "NOkqa-xSqHiF",
        "outputId": "ea56bb51-2c28-4bc8-e8a8-a7a9a78e555c"
      },
      "execution_count": 6,
      "outputs": [
        {
          "output_type": "stream",
          "name": "stdout",
          "text": [
            "c: 5.0\n"
          ]
        }
      ]
    },
    {
      "cell_type": "code",
      "source": [
        "c.numpy()"
      ],
      "metadata": {
        "colab": {
          "base_uri": "https://localhost:8080/"
        },
        "id": "hnAJ7TVnqWTH",
        "outputId": "06432174-4feb-4c4f-a540-26596d9ab1ad"
      },
      "execution_count": 7,
      "outputs": [
        {
          "output_type": "execute_result",
          "data": {
            "text/plain": [
              "5.0"
            ]
          },
          "metadata": {},
          "execution_count": 7
        }
      ]
    },
    {
      "cell_type": "code",
      "source": [
        "type(c.numpy())"
      ],
      "metadata": {
        "colab": {
          "base_uri": "https://localhost:8080/"
        },
        "id": "Q_HPpEc9qfvY",
        "outputId": "d73db49c-ce43-4ddf-a350-c4139ef96dfc"
      },
      "execution_count": 8,
      "outputs": [
        {
          "output_type": "execute_result",
          "data": {
            "text/plain": [
              "numpy.float32"
            ]
          },
          "metadata": {},
          "execution_count": 8
        }
      ]
    },
    {
      "cell_type": "code",
      "source": [
        "a = tf.constant([1,2,3])\n",
        "b = tf.constant([4,5,6])\n",
        "c = tf.tensordot(a, b, axes=[0,0])\n",
        "print(f'c: {c}')"
      ],
      "metadata": {
        "colab": {
          "base_uri": "https://localhost:8080/"
        },
        "id": "uLgICY5jql8C",
        "outputId": "5b032bac-384b-4ddf-db59-8274d6e1c238"
      },
      "execution_count": 9,
      "outputs": [
        {
          "output_type": "stream",
          "name": "stdout",
          "text": [
            "c: 32\n"
          ]
        }
      ]
    },
    {
      "cell_type": "code",
      "source": [
        "a.numpy().dot(b.numpy())"
      ],
      "metadata": {
        "colab": {
          "base_uri": "https://localhost:8080/"
        },
        "id": "s0OdjF3tyDZ-",
        "outputId": "81fb1e60-561e-460f-856d-ebd3186cd17a"
      },
      "execution_count": 10,
      "outputs": [
        {
          "output_type": "execute_result",
          "data": {
            "text/plain": [
              "32"
            ]
          },
          "metadata": {},
          "execution_count": 10
        }
      ]
    },
    {
      "cell_type": "code",
      "source": [
        "import numpy as np\n",
        "A0 = np.random.randn(3,3)\n",
        "B0 = np.random.randn(3,1)\n",
        "C0 = A0.dot(B0)\n",
        "print(f'C0: {C0}')"
      ],
      "metadata": {
        "colab": {
          "base_uri": "https://localhost:8080/"
        },
        "id": "Nq86u3GOyIY1",
        "outputId": "430d9327-43b6-4d95-efb2-323b1c9ffdb7"
      },
      "execution_count": 11,
      "outputs": [
        {
          "output_type": "stream",
          "name": "stdout",
          "text": [
            "C0: [[ 1.70693539]\n",
            " [-1.38981941]\n",
            " [-0.17744624]]\n"
          ]
        }
      ]
    },
    {
      "cell_type": "code",
      "source": [
        "a = tf.constant(A0)\n",
        "b = tf.constant(B0)\n",
        "c = tf.matmul(a,b)\n",
        "print(f'c: {c}')"
      ],
      "metadata": {
        "colab": {
          "base_uri": "https://localhost:8080/"
        },
        "id": "t0iPIKIuygAw",
        "outputId": "c66fc693-2c92-4bce-eb31-4cd0a0a3c15f"
      },
      "execution_count": 12,
      "outputs": [
        {
          "output_type": "stream",
          "name": "stdout",
          "text": [
            "c: [[ 1.70693539]\n",
            " [-1.38981941]\n",
            " [-0.17744624]]\n"
          ]
        }
      ]
    },
    {
      "cell_type": "code",
      "source": [
        " a = tf.constant([[1,2],[3,4]])\n",
        " b = tf.constant(1)\n",
        " c = a+b\n",
        " print(f'c: {c}')"
      ],
      "metadata": {
        "colab": {
          "base_uri": "https://localhost:8080/"
        },
        "id": "Yn-DvHlNy9HO",
        "outputId": "6fd38ae9-6e60-41eb-f7cf-6bf1ac33de22"
      },
      "execution_count": 14,
      "outputs": [
        {
          "output_type": "stream",
          "name": "stdout",
          "text": [
            "c: [[2 3]\n",
            " [4 5]]\n"
          ]
        }
      ]
    },
    {
      "cell_type": "code",
      "source": [
        " a = tf.constant([[1,2],[3,4]])\n",
        " b = tf.constant([[2,3],[4,5]])\n",
        " c = a*b\n",
        " print(f'c: {c}')"
      ],
      "metadata": {
        "colab": {
          "base_uri": "https://localhost:8080/"
        },
        "id": "q0ra6RtVyxYb",
        "outputId": "281264c5-5728-4feb-9a58-b316665bb3aa"
      },
      "execution_count": 16,
      "outputs": [
        {
          "output_type": "stream",
          "name": "stdout",
          "text": [
            "c: [[ 2  6]\n",
            " [12 20]]\n"
          ]
        }
      ]
    },
    {
      "cell_type": "code",
      "source": [],
      "metadata": {
        "id": "5d23V4QTzTGs"
      },
      "execution_count": null,
      "outputs": []
    }
  ]
}