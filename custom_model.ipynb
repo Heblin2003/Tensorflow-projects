{
  "nbformat": 4,
  "nbformat_minor": 0,
  "metadata": {
    "colab": {
      "provenance": []
    },
    "kernelspec": {
      "name": "python3",
      "display_name": "Python 3"
    },
    "language_info": {
      "name": "python"
    }
  },
  "cells": [
    {
      "cell_type": "code",
      "execution_count": 2,
      "metadata": {
        "id": "vkSDWUXs-TEB"
      },
      "outputs": [],
      "source": [
        "import tensorflow as tf"
      ]
    },
    {
      "cell_type": "code",
      "source": [
        "import numpy as np\n",
        "import matplotlib.pyplot as plt"
      ],
      "metadata": {
        "id": "Jjh2F5wK-qAQ"
      },
      "execution_count": 3,
      "outputs": []
    },
    {
      "cell_type": "code",
      "source": [
        "# Define Linear Regression  Model\n",
        "\n",
        "class LinearRegression(tf.keras.Model):\n",
        "  def __init__(self, num_inputs, num_outputs):\n",
        "    super(LinearRegression, self).__init__()\n",
        "    self.W = tf.Variable(\n",
        "        tf.random_normal_initializer()((num_inputs, num_outputs)))\n",
        "    self.b = tf.Variable(tf.zeros(num_outputs))\n",
        "    self.params = [self.W, self.b]\n",
        "\n",
        "  def call(self, inputs):\n",
        "    return tf.matmul(inputs, self.W)+self.b"
      ],
      "metadata": {
        "id": "OsGrPs4R-1BP"
      },
      "execution_count": 4,
      "outputs": []
    },
    {
      "cell_type": "code",
      "source": [
        "#create a dataset\n",
        "N = 100\n",
        "D = 1\n",
        "K = 1\n",
        "X = np.random.random((N,D)) * 2 - 1 # random values between -1,1\n",
        "w = np.random.randn(D, K) #random weight values\n",
        "b = np.random.randn() # random bias values\n",
        "Y = X.dot(w) + b + np.random.randn(N, 1) * 0.1"
      ],
      "metadata": {
        "id": "WxjuEvDYAK8u"
      },
      "execution_count": 5,
      "outputs": []
    },
    {
      "cell_type": "code",
      "source": [
        "plt.scatter(X, Y)"
      ],
      "metadata": {
        "colab": {
          "base_uri": "https://localhost:8080/",
          "height": 447
        },
        "id": "YtMA3tDbAmeo",
        "outputId": "94501111-9b79-4a34-e206-a98a8f52c73c"
      },
      "execution_count": 6,
      "outputs": [
        {
          "output_type": "execute_result",
          "data": {
            "text/plain": [
              "<matplotlib.collections.PathCollection at 0x78d22f4ce500>"
            ]
          },
          "metadata": {},
          "execution_count": 6
        },
        {
          "output_type": "display_data",
          "data": {
            "text/plain": [
              "<Figure size 640x480 with 1 Axes>"
            ],
            "image/png": "[encoded data removed]"
          },
          "metadata": {}
        }
      ]
    },
    {
      "cell_type": "code",
      "source": [
        "# cast typr, otherwise tensorflow will complain\n",
        "# we creating in numpy so it create doubles by default so we convert to float32\n",
        "X = X.astype(np.float32)\n",
        "Y = Y.astype(np.float32)"
      ],
      "metadata": {
        "id": "XQwd2d_EApai"
      },
      "execution_count": 10,
      "outputs": []
    },
    {
      "cell_type": "code",
      "source": [
        "#Define the loss\n",
        "def get_loss(model, inputs, targets):\n",
        "  predictions = model(inputs)\n",
        "  error = targets - predictions\n",
        "  return tf.reduce_mean(tf.square(error))"
      ],
      "metadata": {
        "id": "kcsYJbysA1Di"
      },
      "execution_count": 11,
      "outputs": []
    },
    {
      "cell_type": "code",
      "source": [
        "#Gradient function\n",
        "def get_grad(model, inputs, targets):\n",
        "  with tf.GradientTape() as tape:\n",
        "    #calculate the loss\n",
        "    loss_value = get_loss(model, inputs, targets)\n",
        "  #return gradient\n",
        "  return tape.gradient(loss_value, model.params)"
      ],
      "metadata": {
        "id": "XMKWSYmCB49a"
      },
      "execution_count": 19,
      "outputs": []
    },
    {
      "cell_type": "code",
      "source": [
        "# Create and train the model\n",
        "model = LinearRegression(D, K)\n",
        "\n",
        "#print the params before training\n",
        "print(\"Initial params\")\n",
        "print(model.W)\n",
        "print(model.b)"
      ],
      "metadata": {
        "colab": {
          "base_uri": "https://localhost:8080/",
          "height": 0
        },
        "id": "i5O2YNu2DFFp",
        "outputId": "2e2df041-85c6-4d60-ccfa-2bc4b01aebcb"
      },
      "execution_count": 14,
      "outputs": [
        {
          "output_type": "stream",
          "name": "stdout",
          "text": [
            "Initial params\n",
            "<tf.Variable 'Variable:0' shape=(1, 1) dtype=float32, numpy=array([[-0.01011235]], dtype=float32)>\n",
            "<tf.Variable 'Variable:0' shape=(1,) dtype=float32, numpy=array([0.], dtype=float32)>\n"
          ]
        }
      ]
    },
    {
      "cell_type": "code",
      "source": [
        "# Store the losses here\n",
        "losses = []\n",
        "\n",
        "# create an optimizer\n",
        "optimizer = tf.keras.optimizers.SGD(learning_rate = 0.2)\n",
        "\n",
        "# run the training loop\n",
        "for i in range(100):\n",
        "  # get gradients\n",
        "  grads = get_grad(model, X, Y)\n",
        "\n",
        "  # Do one step of gradient descent : param <- learning_rate * grad\n",
        "  optimizer.apply_gradients(zip(grads, model.params))\n",
        "\n",
        "  #Store the loss\n",
        "  loss = get_loss(model, X, Y)\n",
        "  losses.append(loss)"
      ],
      "metadata": {
        "id": "m6XYiXb2DeoF"
      },
      "execution_count": 20,
      "outputs": []
    },
    {
      "cell_type": "code",
      "source": [
        "plt.plot(losses)"
      ],
      "metadata": {
        "colab": {
          "base_uri": "https://localhost:8080/",
          "height": 447
        },
        "id": "3jr_qCrFEufk",
        "outputId": "aedba073-af3a-4bcc-bd87-1ced680b7ca4"
      },
      "execution_count": 21,
      "outputs": [
        {
          "output_type": "execute_result",
          "data": {
            "text/plain": [
              "[<matplotlib.lines.Line2D at 0x78d22f0e2680>]"
            ]
          },
          "metadata": {},
          "execution_count": 21
        },
        {
          "output_type": "display_data",
          "data": {
            "text/plain": [
              "<Figure size 640x480 with 1 Axes>"
            ],
            "image/png": "[encoded data removed]"
          },
          "metadata": {}
        }
      ]
    },
    {
      "cell_type": "code",
      "source": [
        "x_axis = np.linspace(X.min(), X.max(), 100)\n",
        "y_axis = model.predict(x_axis.reshape(-1,1)).flatten()\n",
        "\n",
        "plt.scatter(X, Y)# actual values\n",
        "plt.plot(x_axis, y_axis) # model values (predicted)"
      ],
      "metadata": {
        "colab": {
          "base_uri": "https://localhost:8080/",
          "height": 465
        },
        "id": "k27xwnUpFAhV",
        "outputId": "6ca66294-865d-421d-e75a-ef04b1a0d8cd"
      },
      "execution_count": 24,
      "outputs": [
        {
          "output_type": "stream",
          "name": "stdout",
          "text": [
            "4/4 [==============================] - 0s 5ms/step\n"
          ]
        },
        {
          "output_type": "execute_result",
          "data": {
            "text/plain": [
              "[<matplotlib.lines.Line2D at 0x78d22f2b5870>]"
            ]
          },
          "metadata": {},
          "execution_count": 24
        },
        {
          "output_type": "display_data",
          "data": {
            "text/plain": [
              "<Figure size 640x480 with 1 Axes>"
            ],
            "image/png": "[encoded data removed]"
          },
          "metadata": {}
        }
      ]
    },
    {
      "cell_type": "code",
      "source": [
        "print(\"predicted params\")\n",
        "print(model.W)\n",
        "print(model.b)"
      ],
      "metadata": {
        "colab": {
          "base_uri": "https://localhost:8080/",
          "height": 0
        },
        "id": "exv0uJDTHcqA",
        "outputId": "3a78dbd4-93af-4985-9cb1-943722954967"
      },
      "execution_count": 25,
      "outputs": [
        {
          "output_type": "stream",
          "name": "stdout",
          "text": [
            "predicted params\n",
            "<tf.Variable 'Variable:0' shape=(1, 1) dtype=float32, numpy=array([[0.3244307]], dtype=float32)>\n",
            "<tf.Variable 'Variable:0' shape=(1,) dtype=float32, numpy=array([0.91166997], dtype=float32)>\n"
          ]
        }
      ]
    },
    {
      "cell_type": "code",
      "source": [
        "print(\"true params\")\n",
        "w,b"
      ],
      "metadata": {
        "colab": {
          "base_uri": "https://localhost:8080/",
          "height": 0
        },
        "id": "BccvwhJOIeFa",
        "outputId": "2b557f2f-d8ba-45c0-adb3-f801926e5204"
      },
      "execution_count": 26,
      "outputs": [
        {
          "output_type": "stream",
          "name": "stdout",
          "text": [
            "true params\n"
          ]
        },
        {
          "output_type": "execute_result",
          "data": {
            "text/plain": [
              "(array([[0.31542371]]), 0.9236465876168846)"
            ]
          },
          "metadata": {},
          "execution_count": 26
        }
      ]
    },
    {
      "cell_type": "code",
      "source": [],
      "metadata": {
        "id": "Qq7D67qnIlaU"
      },
      "execution_count": null,
      "outputs": []
    }
  ]
}